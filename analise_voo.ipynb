{
 "cells": [
  {
   "cell_type": "markdown",
   "metadata": {},
   "source": [
    "## Análise dos dados de voo de um foguete"
   ]
  },
  {
   "cell_type": "code",
   "execution_count": 110,
   "metadata": {},
   "outputs": [],
   "source": [
    "# Desafio da Equipe de Propulsão e Tecnologia Aeroespacial - EPTA\n",
    "# Aviônica\n",
    "# Bruna Isabela de Oliveira\n",
    "# Engenharia de Computação"
   ]
  },
  {
   "cell_type": "code",
   "execution_count": 111,
   "metadata": {},
   "outputs": [],
   "source": [
    "# Importando as bibliotecas necessárias\n",
    "\n",
    "import pandas as pd\n",
    "import matplotlib.pyplot as plt"
   ]
  },
  {
   "cell_type": "code",
   "execution_count": 112,
   "metadata": {},
   "outputs": [],
   "source": [
    "# Carregando o conjunto de dados\n",
    "\n",
    "df = pd.read_excel(\"C:/Users/bruna/Documents/Estudo/UFU/EPTA/desafio/dados_foguete.xlsx\", skiprows = 6)"
   ]
  },
  {
   "cell_type": "code",
   "execution_count": 113,
   "metadata": {},
   "outputs": [
    {
     "data": {
      "text/html": [
       "<div>\n",
       "<style scoped>\n",
       "    .dataframe tbody tr th:only-of-type {\n",
       "        vertical-align: middle;\n",
       "    }\n",
       "\n",
       "    .dataframe tbody tr th {\n",
       "        vertical-align: top;\n",
       "    }\n",
       "\n",
       "    .dataframe thead th {\n",
       "        text-align: right;\n",
       "    }\n",
       "</style>\n",
       "<table border=\"1\" class=\"dataframe\">\n",
       "  <thead>\n",
       "    <tr style=\"text-align: right;\">\n",
       "      <th></th>\n",
       "      <th>Longitude</th>\n",
       "      <th>Latitude</th>\n",
       "      <th>Altitude (m)</th>\n",
       "      <th>counter:#sat:time (s)</th>\n",
       "      <th>East (ft)</th>\n",
       "      <th>North (ft)</th>\n",
       "      <th>Altitude (ft)</th>\n",
       "      <th>Altitude (ft).1</th>\n",
       "      <th>Time (s)</th>\n",
       "      <th>Offset Time (s)</th>\n",
       "      <th>Verticle Velocity (fps)</th>\n",
       "      <th>Verticle Velocity (mph)</th>\n",
       "      <th>Ground Distance Traveled</th>\n",
       "      <th>Ground velocity (mph)</th>\n",
       "      <th>Accelleration (g's)</th>\n",
       "    </tr>\n",
       "  </thead>\n",
       "  <tbody>\n",
       "    <tr>\n",
       "      <th>0</th>\n",
       "      <td>-120.068167</td>\n",
       "      <td>36.512440</td>\n",
       "      <td>53</td>\n",
       "      <td>!-- 38490 sats:11 UTC 17:44:36 --&gt;</td>\n",
       "      <td>0.0</td>\n",
       "      <td>0.000000</td>\n",
       "      <td>173.88452</td>\n",
       "      <td>2.88452</td>\n",
       "      <td>1</td>\n",
       "      <td>-18</td>\n",
       "      <td>NaN</td>\n",
       "      <td>NaN</td>\n",
       "      <td>NaN</td>\n",
       "      <td>NaN</td>\n",
       "      <td>NaN</td>\n",
       "    </tr>\n",
       "    <tr>\n",
       "      <th>1</th>\n",
       "      <td>-120.068167</td>\n",
       "      <td>36.512442</td>\n",
       "      <td>54</td>\n",
       "      <td>!-- 38505 sats:11 UTC 17:44:37 --&gt;</td>\n",
       "      <td>0.0</td>\n",
       "      <td>0.729062</td>\n",
       "      <td>177.16536</td>\n",
       "      <td>6.16536</td>\n",
       "      <td>2</td>\n",
       "      <td>-17</td>\n",
       "      <td>3.28084</td>\n",
       "      <td>2.236089</td>\n",
       "      <td>0.729062</td>\n",
       "      <td>NaN</td>\n",
       "      <td>NaN</td>\n",
       "    </tr>\n",
       "    <tr>\n",
       "      <th>2</th>\n",
       "      <td>-120.068167</td>\n",
       "      <td>36.512443</td>\n",
       "      <td>54</td>\n",
       "      <td>!-- 38520 sats:11 UTC 17:44:38 --&gt;</td>\n",
       "      <td>0.0</td>\n",
       "      <td>1.093594</td>\n",
       "      <td>177.16536</td>\n",
       "      <td>6.16536</td>\n",
       "      <td>3</td>\n",
       "      <td>-16</td>\n",
       "      <td>0.00000</td>\n",
       "      <td>0.000000</td>\n",
       "      <td>1.093594</td>\n",
       "      <td>NaN</td>\n",
       "      <td>NaN</td>\n",
       "    </tr>\n",
       "  </tbody>\n",
       "</table>\n",
       "</div>"
      ],
      "text/plain": [
       "    Longitude   Latitude  Altitude (m)               counter:#sat:time (s)  \\\n",
       "0 -120.068167  36.512440            53  !-- 38490 sats:11 UTC 17:44:36 -->   \n",
       "1 -120.068167  36.512442            54  !-- 38505 sats:11 UTC 17:44:37 -->   \n",
       "2 -120.068167  36.512443            54  !-- 38520 sats:11 UTC 17:44:38 -->   \n",
       "\n",
       "   East (ft)  North (ft)  Altitude (ft)  Altitude (ft).1  Time (s)  \\\n",
       "0        0.0    0.000000      173.88452          2.88452         1   \n",
       "1        0.0    0.729062      177.16536          6.16536         2   \n",
       "2        0.0    1.093594      177.16536          6.16536         3   \n",
       "\n",
       "   Offset Time (s)  Verticle Velocity (fps)  Verticle Velocity (mph)  \\\n",
       "0              -18                      NaN                      NaN   \n",
       "1              -17                  3.28084                 2.236089   \n",
       "2              -16                  0.00000                 0.000000   \n",
       "\n",
       "   Ground Distance Traveled  Ground velocity (mph)  Accelleration (g's)  \n",
       "0                       NaN                    NaN                  NaN  \n",
       "1                  0.729062                    NaN                  NaN  \n",
       "2                  1.093594                    NaN                  NaN  "
      ]
     },
     "execution_count": 113,
     "metadata": {},
     "output_type": "execute_result"
    }
   ],
   "source": [
    "# Análise da parte de cima da tabela\n",
    "\n",
    "df.head(3)"
   ]
  },
  {
   "cell_type": "code",
   "execution_count": 114,
   "metadata": {},
   "outputs": [
    {
     "data": {
      "text/html": [
       "<div>\n",
       "<style scoped>\n",
       "    .dataframe tbody tr th:only-of-type {\n",
       "        vertical-align: middle;\n",
       "    }\n",
       "\n",
       "    .dataframe tbody tr th {\n",
       "        vertical-align: top;\n",
       "    }\n",
       "\n",
       "    .dataframe thead th {\n",
       "        text-align: right;\n",
       "    }\n",
       "</style>\n",
       "<table border=\"1\" class=\"dataframe\">\n",
       "  <thead>\n",
       "    <tr style=\"text-align: right;\">\n",
       "      <th></th>\n",
       "      <th>Longitude</th>\n",
       "      <th>Latitude</th>\n",
       "      <th>Altitude (m)</th>\n",
       "      <th>counter:#sat:time (s)</th>\n",
       "      <th>East (ft)</th>\n",
       "      <th>North (ft)</th>\n",
       "      <th>Altitude (ft)</th>\n",
       "      <th>Altitude (ft).1</th>\n",
       "      <th>Time (s)</th>\n",
       "      <th>Offset Time (s)</th>\n",
       "      <th>Verticle Velocity (fps)</th>\n",
       "      <th>Verticle Velocity (mph)</th>\n",
       "      <th>Ground Distance Traveled</th>\n",
       "      <th>Ground velocity (mph)</th>\n",
       "      <th>Accelleration (g's)</th>\n",
       "    </tr>\n",
       "  </thead>\n",
       "  <tbody>\n",
       "    <tr>\n",
       "      <th>263</th>\n",
       "      <td>-120.076213</td>\n",
       "      <td>36.509537</td>\n",
       "      <td>51</td>\n",
       "      <td>!-- 42435 sats:11 UTC 17:48:59 --&gt;</td>\n",
       "      <td>-2357.43718</td>\n",
       "      <td>-1058.234074</td>\n",
       "      <td>167.32284</td>\n",
       "      <td>-3.67716</td>\n",
       "      <td>264</td>\n",
       "      <td>245</td>\n",
       "      <td>0.00000</td>\n",
       "      <td>0.000000</td>\n",
       "      <td>7632.830302</td>\n",
       "      <td>0.0</td>\n",
       "      <td>0.000000</td>\n",
       "    </tr>\n",
       "    <tr>\n",
       "      <th>264</th>\n",
       "      <td>-120.076213</td>\n",
       "      <td>36.509537</td>\n",
       "      <td>51</td>\n",
       "      <td>!-- 42450 sats:11 UTC 17:49:00 --&gt;</td>\n",
       "      <td>-2357.43718</td>\n",
       "      <td>-1058.234074</td>\n",
       "      <td>167.32284</td>\n",
       "      <td>-3.67716</td>\n",
       "      <td>265</td>\n",
       "      <td>246</td>\n",
       "      <td>0.00000</td>\n",
       "      <td>0.000000</td>\n",
       "      <td>7632.830302</td>\n",
       "      <td>0.0</td>\n",
       "      <td>0.000000</td>\n",
       "    </tr>\n",
       "    <tr>\n",
       "      <th>265</th>\n",
       "      <td>-120.076213</td>\n",
       "      <td>36.509537</td>\n",
       "      <td>50</td>\n",
       "      <td>!-- 42465 sats:11 UTC 17:49:01 --&gt;</td>\n",
       "      <td>-2357.43718</td>\n",
       "      <td>-1058.234074</td>\n",
       "      <td>164.04200</td>\n",
       "      <td>-6.95800</td>\n",
       "      <td>266</td>\n",
       "      <td>247</td>\n",
       "      <td>-3.28084</td>\n",
       "      <td>-2.236089</td>\n",
       "      <td>7632.830302</td>\n",
       "      <td>0.0</td>\n",
       "      <td>-0.102526</td>\n",
       "    </tr>\n",
       "  </tbody>\n",
       "</table>\n",
       "</div>"
      ],
      "text/plain": [
       "      Longitude   Latitude  Altitude (m)               counter:#sat:time (s)  \\\n",
       "263 -120.076213  36.509537            51  !-- 42435 sats:11 UTC 17:48:59 -->   \n",
       "264 -120.076213  36.509537            51  !-- 42450 sats:11 UTC 17:49:00 -->   \n",
       "265 -120.076213  36.509537            50  !-- 42465 sats:11 UTC 17:49:01 -->   \n",
       "\n",
       "      East (ft)   North (ft)  Altitude (ft)  Altitude (ft).1  Time (s)  \\\n",
       "263 -2357.43718 -1058.234074      167.32284         -3.67716       264   \n",
       "264 -2357.43718 -1058.234074      167.32284         -3.67716       265   \n",
       "265 -2357.43718 -1058.234074      164.04200         -6.95800       266   \n",
       "\n",
       "     Offset Time (s)  Verticle Velocity (fps)  Verticle Velocity (mph)  \\\n",
       "263              245                  0.00000                 0.000000   \n",
       "264              246                  0.00000                 0.000000   \n",
       "265              247                 -3.28084                -2.236089   \n",
       "\n",
       "     Ground Distance Traveled  Ground velocity (mph)  Accelleration (g's)  \n",
       "263               7632.830302                    0.0             0.000000  \n",
       "264               7632.830302                    0.0             0.000000  \n",
       "265               7632.830302                    0.0            -0.102526  "
      ]
     },
     "execution_count": 114,
     "metadata": {},
     "output_type": "execute_result"
    }
   ],
   "source": [
    "# Análise do final da tabela\n",
    "\n",
    "df.tail(3)"
   ]
  },
  {
   "cell_type": "markdown",
   "metadata": {},
   "source": [
    "## Características gerais do voo\n",
    "Nesta seção será apresentado alguns dados gerais do voo, tais como o tempo do mesmo e a altitude inicial (antes do lançamento)."
   ]
  },
  {
   "cell_type": "code",
   "execution_count": 115,
   "metadata": {},
   "outputs": [],
   "source": [
    "# Definindo as variáveis de tempo de lançamento\n",
    "\n",
    "tempo_voo = df[\"Time (s)\"].max()"
   ]
  },
  {
   "cell_type": "code",
   "execution_count": 116,
   "metadata": {},
   "outputs": [],
   "source": [
    "# Definindo as variáveis de altitude inicial \n",
    "\n",
    "deslocamento1 = df.iloc[0,7]\n",
    "altitude1 = df.iloc[0,6]\n",
    "altitude_inicial_ft = altitude1 - deslocamento1\n"
   ]
  },
  {
   "cell_type": "code",
   "execution_count": 117,
   "metadata": {},
   "outputs": [
    {
     "name": "stdout",
     "output_type": "stream",
     "text": [
      "\n",
      "\n",
      "Tempo de voo do foguete = 266 s\n",
      "                        ≅ 4.43 min\n",
      "\n",
      "Altitude inicial = 171.0 ft\n",
      "                 ≅ 52.12 m\n",
      "\n"
     ]
    }
   ],
   "source": [
    "print()\n",
    "print()\n",
    "print(\"Tempo de voo do foguete =\", tempo_voo, \"s\")\n",
    "print(\"                        ≅\", \"%.2f\" % (tempo_voo / 60), \"min\")\n",
    "print()\n",
    "print(\"Altitude inicial =\", altitude_inicial_ft, \"ft\")\n",
    "print(\"                 ≅\", \"%.2f\" % (altitude_inicial_ft * 0.3048), \"m\")\n",
    "print()"
   ]
  },
  {
   "cell_type": "markdown",
   "metadata": {},
   "source": [
    "## Trajetória no eixo Y\n",
    "Análise sobre os valores da trajetória do foguete no eixo Y."
   ]
  },
  {
   "cell_type": "code",
   "execution_count": 118,
   "metadata": {},
   "outputs": [],
   "source": [
    "# Definindo as variáveis de tempo, apogeu e o momento que foi atingido\n",
    "\n",
    "tempo = df[\"Time (s)\"]\n",
    "\n",
    "apogeu = df[\"Altitude (ft).1\"].max()\n",
    "df_apogeu = df.loc[df[\"Altitude (ft).1\"] == apogeu]\n",
    "t_apogeu = df_apogeu[\"Time (s)\"].max()\n"
   ]
  },
  {
   "cell_type": "code",
   "execution_count": 119,
   "metadata": {},
   "outputs": [],
   "source": [
    "# Definindo as variáveis de velocidade (eixo Y) e altitude.\n",
    "\n",
    "altitude = df[\"Altitude (ft).1\"]\n",
    "vely = df[\"Verticle Velocity (fps)\"]\n",
    "vely_apogeu = vely[:47]\n"
   ]
  },
  {
   "cell_type": "code",
   "execution_count": 120,
   "metadata": {},
   "outputs": [
    {
     "data": {
      "image/png": "[encoded data removed]",
      "text/plain": [
       "<Figure size 1080x504 with 1 Axes>"
      ]
     },
     "metadata": {
      "needs_background": "light"
     },
     "output_type": "display_data"
    },
    {
     "name": "stdout",
     "output_type": "stream",
     "text": [
      "\n",
      "\n",
      "Apogeu = 10750.92 ft\n",
      "        ≅ 3276.88 m\n",
      "\n",
      "Momento do apogeu = 47 s\n",
      "\n",
      "Velocidade média = 233.65 fps\n",
      " (até o apogeu)  ≅ 159.30 mph\n",
      "                 ≅ 71.22 m/s\n",
      "\n",
      "Velocidade mediana = 49.21 fps\n",
      " (até o apogeu)    ≅ 33.55 mph\n",
      "                   ≅ 15.00 m/s\n",
      "\n"
     ]
    }
   ],
   "source": [
    "# Plotando gráficos de deslocamento na vertical em relação ao tempo.\n",
    "\n",
    "plt.figure(figsize = (15,7))\n",
    "plt.title(\"Gráfico Deslocamento vertical X Tempo\")\n",
    "plt.scatter(tempo, altitude)\n",
    "plt.xlabel(\"tempo (s)\")\n",
    "plt.ylabel(\"Deslocamento vertical (ft)\")\n",
    "plt.grid()\n",
    "plt.show()\n",
    "\n",
    "\n",
    "# Printando resultados obtidos\n",
    "\n",
    "print()\n",
    "print()\n",
    "print(\"Apogeu =\", \"%.2f\" % apogeu, \"ft\")\n",
    "print(\"        ≅\", \"%.2f\" % (apogeu * 0.3048), \"m\")\n",
    "print()\n",
    "print(\"Momento do apogeu =\", t_apogeu, \"s\")\n",
    "print()\n",
    "print(\"Velocidade média =\", \"%.2f\" % vely_apogeu.mean(), \"fps\")\n",
    "print(\" (até o apogeu)  ≅\", \"%.2f\" % (vely_apogeu.mean() * 0.6818), \"mph\")\n",
    "print(\"                 ≅\", \"%.2f\" % (vely_apogeu.mean() * 0.3048), \"m/s\")\n",
    "print()\n",
    "print(\"Velocidade mediana =\", \"%.2f\" % vely_apogeu.median(), \"fps\")\n",
    "print(\" (até o apogeu)    ≅\", \"%.2f\" % (vely_apogeu.median() * 0.6818), \"mph\")\n",
    "print(\"                   ≅\", \"%.2f\" % (vely_apogeu.median() * 0.3048), \"m/s\")\n",
    "print()"
   ]
  },
  {
   "cell_type": "markdown",
   "metadata": {},
   "source": [
    "## Tragetória no eixo X\n",
    "Análise sobre os valores da trajetória do foguete no eixo X."
   ]
  },
  {
   "cell_type": "code",
   "execution_count": 121,
   "metadata": {},
   "outputs": [],
   "source": [
    "# Definindo as variáveis de velocidade (eixo X) e alcance.\n",
    "\n",
    "velx = df[\"Ground velocity (mph)\"]\n",
    "velx_apogeu = vely[:47]\n",
    "alcance = df[\"Ground Distance Traveled\"].max()\n",
    "dist = df[\"Ground Distance Traveled\"]"
   ]
  },
  {
   "cell_type": "code",
   "execution_count": 122,
   "metadata": {},
   "outputs": [
    {
     "data": {
      "image/png": "[encoded data removed]",
      "text/plain": [
       "<Figure size 1080x504 with 1 Axes>"
      ]
     },
     "metadata": {
      "needs_background": "light"
     },
     "output_type": "display_data"
    },
    {
     "name": "stdout",
     "output_type": "stream",
     "text": [
      "\n",
      "\n",
      "Distância percorrida = 7632.83 ft\n",
      "                     ≅ 2326.49 m\n",
      "\n",
      "Velocidade média = 233.65 mph\n",
      " (até o apogeu)  ≅ 104.45 m/s\n",
      "\n",
      "Velocidade mediana = 49.21 mph\n",
      " (até o apogeu)    ≅ 22.00 m/s\n",
      "\n"
     ]
    }
   ],
   "source": [
    "# Plotando gráficos de distância em relação ao tempo.\n",
    "\n",
    "plt.figure(figsize = (15,7))\n",
    "plt.title(\"Gráfico Distância X Tempo\")\n",
    "plt.scatter(tempo, dist)\n",
    "plt.xlabel(\"tempo (s)\")\n",
    "plt.ylabel(\"Distância (ft)\")\n",
    "plt.grid()\n",
    "plt.show()\n",
    "\n",
    "\n",
    "# Printando resultados obtidos\n",
    "\n",
    "print()\n",
    "print()\n",
    "print(\"Distância percorrida =\", \"%.2f\" % alcance, \"ft\")\n",
    "print(\"                     ≅\", \"%.2f\" % (alcance * 0.3048), \"m\")\n",
    "print()\n",
    "print(\"Velocidade média =\", \"%.2f\" % velx_apogeu.mean(), \"mph\")\n",
    "print(\" (até o apogeu)  ≅\", \"%.2f\" % (velx_apogeu.mean() * 0.44704), \"m/s\")\n",
    "print()\n",
    "print(\"Velocidade mediana =\", \"%.2f\" % velx_apogeu.median(), \"mph\")\n",
    "print(\" (até o apogeu)    ≅\", \"%.2f\" % (velx_apogeu.median() * 0.44704), \"m/s\")\n",
    "print()"
   ]
  },
  {
   "cell_type": "markdown",
   "metadata": {},
   "source": [
    "# Aceleração\n",
    "Análise sobre os valores da aceleração do foguete até o momento do apogeu."
   ]
  },
  {
   "cell_type": "code",
   "execution_count": 123,
   "metadata": {},
   "outputs": [],
   "source": [
    "# Definindo as variáveis de aceleração e tempo.\n",
    "\n",
    "acel_g = df[\"Accelleration (g's)\"]\n",
    "acel_apogeu = acel_g.loc[:47]\n",
    "tempo_apogeu = tempo.loc[:47]\n"
   ]
  },
  {
   "cell_type": "code",
   "execution_count": 124,
   "metadata": {
    "scrolled": false
   },
   "outputs": [
    {
     "data": {
      "image/png": "[encoded data removed]",
      "text/plain": [
       "<Figure size 1080x504 with 1 Axes>"
      ]
     },
     "metadata": {
      "needs_background": "light"
     },
     "output_type": "display_data"
    },
    {
     "name": "stdout",
     "output_type": "stream",
     "text": [
      "\n",
      "\n",
      "Aceleração máxima = 12.51 g\n",
      "                  ≅ 122.66 m/s²\n",
      "\n",
      "Aceleração média  = -0.01 g\n",
      "                  ≅ -0.14 m/s²\n",
      "\n",
      "Aceleração mediana = -0.72 g\n",
      "                   ≅ -7.04 m/s²\n",
      "\n"
     ]
    }
   ],
   "source": [
    "# Plotando gráficos de aceleração em relação ao tempo\n",
    "\n",
    "plt.figure(figsize = (15,7))\n",
    "plt.title(\"Gráfico Aceleração X Tempo\")\n",
    "plt.scatter(tempo_apogeu, acel_apogeu)\n",
    "plt.xlabel(\"tempo (s)\")\n",
    "plt.ylabel(\"Aceleração (g)\")\n",
    "plt.grid()\n",
    "plt.show()\n",
    "\n",
    "\n",
    "# Printando resultados obtidos\n",
    "\n",
    "print()\n",
    "print()\n",
    "print(\"Aceleração máxima =\", \"%.2f\" % acel_apogeu.max(), \"g\")\n",
    "print(\"                  ≅\", \"%.2f\" % (acel_apogeu.max() * 9.8066), \"m/s²\")    \n",
    "print()\n",
    "print(\"Aceleração média  =\", \"%.2f\" % acel_apogeu.mean(), \"g\")\n",
    "print(\"                  ≅\", \"%.2f\" % (acel_apogeu.mean() * 9.8066), \"m/s²\")    \n",
    "print()\n",
    "print(\"Aceleração mediana =\", \"%.2f\" % acel_apogeu.median(), \"g\")\n",
    "print(\"                   ≅\", \"%.2f\" % (acel_apogeu.median() * 9.8066), \"m/s²\")    \n",
    "print()"
   ]
  }
 ],
 "metadata": {
  "kernelspec": {
   "display_name": "Python 3",
   "language": "python",
   "name": "python3"
  },
  "language_info": {
   "codemirror_mode": {
    "name": "ipython",
    "version": 3
   },
   "file_extension": ".py",
   "mimetype": "text/x-python",
   "name": "python",
   "nbconvert_exporter": "python",
   "pygments_lexer": "ipython3",
   "version": "3.8.3"
  }
 },
 "nbformat": 4,
 "nbformat_minor": 4
}
